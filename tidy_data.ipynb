{
 "cells": [
  {
   "cell_type": "markdown",
   "id": "88df375f",
   "metadata": {},
   "source": [
    "# Tidy Data Exercises"
   ]
  },
  {
   "cell_type": "markdown",
   "id": "c328369b",
   "metadata": {},
   "source": [
    "### 1. Attendance Data\n",
    "- Read the data from the attendance table and calculate an attendance percentage for each student. One half day is worth 50% of a full day, and 10 tardies is equal to one absence."
   ]
  },
  {
   "cell_type": "code",
   "execution_count": 2,
   "id": "82b4aeed",
   "metadata": {},
   "outputs": [],
   "source": [
    "import pandas as pd\n",
    "import numpy as np\n",
    "import seaborn as sns\n",
    "from pydataset import data"
   ]
  },
  {
   "cell_type": "code",
   "execution_count": 4,
   "id": "e81eb7d7",
   "metadata": {},
   "outputs": [
    {
     "data": {
      "text/html": [
       "<div>\n",
       "<style scoped>\n",
       "    .dataframe tbody tr th:only-of-type {\n",
       "        vertical-align: middle;\n",
       "    }\n",
       "\n",
       "    .dataframe tbody tr th {\n",
       "        vertical-align: top;\n",
       "    }\n",
       "\n",
       "    .dataframe thead th {\n",
       "        text-align: right;\n",
       "    }\n",
       "</style>\n",
       "<table border=\"1\" class=\"dataframe\">\n",
       "  <thead>\n",
       "    <tr style=\"text-align: right;\">\n",
       "      <th></th>\n",
       "      <th>Unnamed: 0</th>\n",
       "      <th>2018-01-01</th>\n",
       "      <th>2018-01-02</th>\n",
       "      <th>2018-01-03</th>\n",
       "      <th>2018-01-04</th>\n",
       "      <th>2018-01-05</th>\n",
       "      <th>2018-01-06</th>\n",
       "      <th>2018-01-07</th>\n",
       "      <th>2018-01-08</th>\n",
       "    </tr>\n",
       "  </thead>\n",
       "  <tbody>\n",
       "    <tr>\n",
       "      <th>0</th>\n",
       "      <td>Sally</td>\n",
       "      <td>P</td>\n",
       "      <td>T</td>\n",
       "      <td>T</td>\n",
       "      <td>H</td>\n",
       "      <td>P</td>\n",
       "      <td>A</td>\n",
       "      <td>T</td>\n",
       "      <td>T</td>\n",
       "    </tr>\n",
       "    <tr>\n",
       "      <th>1</th>\n",
       "      <td>Jane</td>\n",
       "      <td>A</td>\n",
       "      <td>P</td>\n",
       "      <td>T</td>\n",
       "      <td>T</td>\n",
       "      <td>T</td>\n",
       "      <td>T</td>\n",
       "      <td>A</td>\n",
       "      <td>T</td>\n",
       "    </tr>\n",
       "    <tr>\n",
       "      <th>2</th>\n",
       "      <td>Billy</td>\n",
       "      <td>A</td>\n",
       "      <td>T</td>\n",
       "      <td>A</td>\n",
       "      <td>A</td>\n",
       "      <td>H</td>\n",
       "      <td>T</td>\n",
       "      <td>P</td>\n",
       "      <td>T</td>\n",
       "    </tr>\n",
       "    <tr>\n",
       "      <th>3</th>\n",
       "      <td>John</td>\n",
       "      <td>P</td>\n",
       "      <td>T</td>\n",
       "      <td>H</td>\n",
       "      <td>P</td>\n",
       "      <td>P</td>\n",
       "      <td>T</td>\n",
       "      <td>P</td>\n",
       "      <td>P</td>\n",
       "    </tr>\n",
       "  </tbody>\n",
       "</table>\n",
       "</div>"
      ],
      "text/plain": [
       "  Unnamed: 0 2018-01-01 2018-01-02 2018-01-03 2018-01-04 2018-01-05  \\\n",
       "0      Sally          P          T          T          H          P   \n",
       "1       Jane          A          P          T          T          T   \n",
       "2      Billy          A          T          A          A          H   \n",
       "3       John          P          T          H          P          P   \n",
       "\n",
       "  2018-01-06 2018-01-07 2018-01-08  \n",
       "0          A          T          T  \n",
       "1          T          A          T  \n",
       "2          T          P          T  \n",
       "3          T          P          P  "
      ]
     },
     "execution_count": 4,
     "metadata": {},
     "output_type": "execute_result"
    }
   ],
   "source": [
    "attendance = pd.read_csv('attendance.csv')\n",
    "attendance"
   ]
  },
  {
   "cell_type": "code",
   "execution_count": null,
   "id": "c6883285",
   "metadata": {},
   "outputs": [],
   "source": [
    "# melt the dataframe"
   ]
  },
  {
   "cell_type": "code",
   "execution_count": null,
   "id": "23e57607",
   "metadata": {},
   "outputs": [],
   "source": []
  },
  {
   "cell_type": "code",
   "execution_count": null,
   "id": "bd72dc60",
   "metadata": {},
   "outputs": [],
   "source": []
  },
  {
   "cell_type": "code",
   "execution_count": null,
   "id": "19b0c387",
   "metadata": {},
   "outputs": [],
   "source": []
  },
  {
   "cell_type": "code",
   "execution_count": null,
   "id": "dbfb66dd",
   "metadata": {},
   "outputs": [],
   "source": []
  },
  {
   "cell_type": "markdown",
   "id": "0bece532",
   "metadata": {},
   "source": [
    "### 2. Coffee Levels"
   ]
  },
  {
   "cell_type": "markdown",
   "id": "3d2a5f76",
   "metadata": {},
   "source": [
    "##### a. Read the coffee_levels table"
   ]
  },
  {
   "cell_type": "code",
   "execution_count": null,
   "id": "ec6f1cd6",
   "metadata": {},
   "outputs": [],
   "source": []
  },
  {
   "cell_type": "code",
   "execution_count": null,
   "id": "dd493287",
   "metadata": {},
   "outputs": [],
   "source": []
  },
  {
   "cell_type": "markdown",
   "id": "9432a070",
   "metadata": {},
   "source": [
    "##### b. Transform the data so that each carafe is in it's own column."
   ]
  },
  {
   "cell_type": "code",
   "execution_count": null,
   "id": "0d21b1ee",
   "metadata": {},
   "outputs": [],
   "source": []
  },
  {
   "cell_type": "code",
   "execution_count": null,
   "id": "db716512",
   "metadata": {},
   "outputs": [],
   "source": []
  },
  {
   "cell_type": "markdown",
   "id": "01f789f0",
   "metadata": {},
   "source": [
    "##### c. Is this the best shape for the data"
   ]
  },
  {
   "cell_type": "code",
   "execution_count": null,
   "id": "554d52e5",
   "metadata": {},
   "outputs": [],
   "source": []
  },
  {
   "cell_type": "code",
   "execution_count": null,
   "id": "da8b1899",
   "metadata": {},
   "outputs": [],
   "source": []
  },
  {
   "cell_type": "code",
   "execution_count": null,
   "id": "ed6fd347",
   "metadata": {},
   "outputs": [],
   "source": []
  },
  {
   "cell_type": "code",
   "execution_count": null,
   "id": "0d662436",
   "metadata": {},
   "outputs": [],
   "source": []
  },
  {
   "cell_type": "code",
   "execution_count": null,
   "id": "6ae74165",
   "metadata": {},
   "outputs": [],
   "source": []
  },
  {
   "cell_type": "markdown",
   "id": "0e75ab08",
   "metadata": {},
   "source": [
    "### 3. Cake Recipes"
   ]
  },
  {
   "cell_type": "markdown",
   "id": "02ee6e30",
   "metadata": {},
   "source": [
    "##### a. Read the cake_recipes table. This data set contains cake tastiness scores for combinations of different recipes, oven rack positions, and oven temperatures."
   ]
  },
  {
   "cell_type": "code",
   "execution_count": null,
   "id": "ad95dbd0",
   "metadata": {},
   "outputs": [],
   "source": []
  },
  {
   "cell_type": "code",
   "execution_count": null,
   "id": "ecae5380",
   "metadata": {},
   "outputs": [],
   "source": []
  },
  {
   "cell_type": "markdown",
   "id": "7a6833cc",
   "metadata": {},
   "source": [
    "##### b. Tidy the data as necessary."
   ]
  },
  {
   "cell_type": "code",
   "execution_count": null,
   "id": "445c03a7",
   "metadata": {},
   "outputs": [],
   "source": []
  },
  {
   "cell_type": "code",
   "execution_count": null,
   "id": "5f90f7ba",
   "metadata": {},
   "outputs": [],
   "source": []
  },
  {
   "cell_type": "markdown",
   "id": "0c55ee27",
   "metadata": {},
   "source": [
    "##### c. Which recipe, on average, is the best? recipe b"
   ]
  },
  {
   "cell_type": "code",
   "execution_count": null,
   "id": "f2c5dfb4",
   "metadata": {},
   "outputs": [],
   "source": []
  },
  {
   "cell_type": "code",
   "execution_count": null,
   "id": "21f98ea2",
   "metadata": {},
   "outputs": [],
   "source": []
  },
  {
   "cell_type": "code",
   "execution_count": null,
   "id": "f583ec62",
   "metadata": {},
   "outputs": [],
   "source": []
  },
  {
   "cell_type": "markdown",
   "id": "96232eb6",
   "metadata": {},
   "source": [
    "##### d. Which oven temperature, on average, produces the best results? 275"
   ]
  },
  {
   "cell_type": "code",
   "execution_count": null,
   "id": "7b4f5db3",
   "metadata": {},
   "outputs": [],
   "source": []
  },
  {
   "cell_type": "code",
   "execution_count": null,
   "id": "a976c11c",
   "metadata": {},
   "outputs": [],
   "source": []
  },
  {
   "cell_type": "code",
   "execution_count": null,
   "id": "9b004c82",
   "metadata": {},
   "outputs": [],
   "source": []
  },
  {
   "cell_type": "markdown",
   "id": "1050db3d",
   "metadata": {},
   "source": [
    "##### e. Which combination of recipe, rack position, and temperature gives the best result? recipe b, bottom rack, 300 degrees"
   ]
  },
  {
   "cell_type": "code",
   "execution_count": null,
   "id": "c853d173",
   "metadata": {},
   "outputs": [],
   "source": []
  },
  {
   "cell_type": "code",
   "execution_count": null,
   "id": "8ccf1dd9",
   "metadata": {},
   "outputs": [],
   "source": []
  },
  {
   "cell_type": "code",
   "execution_count": null,
   "id": "aaa613eb",
   "metadata": {},
   "outputs": [],
   "source": []
  },
  {
   "cell_type": "code",
   "execution_count": null,
   "id": "e998c5da",
   "metadata": {},
   "outputs": [],
   "source": []
  },
  {
   "cell_type": "code",
   "execution_count": null,
   "id": "b8040bb0",
   "metadata": {},
   "outputs": [],
   "source": []
  },
  {
   "cell_type": "code",
   "execution_count": null,
   "id": "7a0ed863",
   "metadata": {},
   "outputs": [],
   "source": []
  },
  {
   "cell_type": "markdown",
   "id": "8e89fbe6",
   "metadata": {},
   "source": [
    "### 4. Bonus: explore the other tables in the tidy_data database and reshape them as necessary so that they are in a tidy format."
   ]
  },
  {
   "cell_type": "code",
   "execution_count": null,
   "id": "48ebebfb",
   "metadata": {},
   "outputs": [],
   "source": []
  },
  {
   "cell_type": "code",
   "execution_count": null,
   "id": "a087ed92",
   "metadata": {},
   "outputs": [],
   "source": []
  }
 ],
 "metadata": {
  "kernelspec": {
   "display_name": "Python 3 (ipykernel)",
   "language": "python",
   "name": "python3"
  },
  "language_info": {
   "codemirror_mode": {
    "name": "ipython",
    "version": 3
   },
   "file_extension": ".py",
   "mimetype": "text/x-python",
   "name": "python",
   "nbconvert_exporter": "python",
   "pygments_lexer": "ipython3",
   "version": "3.9.12"
  }
 },
 "nbformat": 4,
 "nbformat_minor": 5
}
